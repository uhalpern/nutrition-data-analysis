{
 "cells": [
  {
   "cell_type": "code",
   "execution_count": 27,
   "metadata": {},
   "outputs": [
    {
     "name": "stdout",
     "output_type": "stream",
     "text": [
      "Defaulting to user installation because normal site-packages is not writeable\n",
      "Requirement already satisfied: scikit-learn in c:\\users\\vedang\\appdata\\local\\packages\\pythonsoftwarefoundation.python.3.12_qbz5n2kfra8p0\\localcache\\local-packages\\python312\\site-packages (1.6.1)\n",
      "Requirement already satisfied: numpy>=1.19.5 in c:\\users\\vedang\\appdata\\local\\packages\\pythonsoftwarefoundation.python.3.12_qbz5n2kfra8p0\\localcache\\local-packages\\python312\\site-packages (from scikit-learn) (2.2.2)\n",
      "Requirement already satisfied: scipy>=1.6.0 in c:\\users\\vedang\\appdata\\local\\packages\\pythonsoftwarefoundation.python.3.12_qbz5n2kfra8p0\\localcache\\local-packages\\python312\\site-packages (from scikit-learn) (1.15.1)\n",
      "Requirement already satisfied: joblib>=1.2.0 in c:\\users\\vedang\\appdata\\local\\packages\\pythonsoftwarefoundation.python.3.12_qbz5n2kfra8p0\\localcache\\local-packages\\python312\\site-packages (from scikit-learn) (1.4.2)\n",
      "Requirement already satisfied: threadpoolctl>=3.1.0 in c:\\users\\vedang\\appdata\\local\\packages\\pythonsoftwarefoundation.python.3.12_qbz5n2kfra8p0\\localcache\\local-packages\\python312\\site-packages (from scikit-learn) (3.5.0)\n"
     ]
    }
   ],
   "source": [
    "# !pip install sentence-transformers\n",
    "# !pip install scikit-learn"
   ]
  },
  {
   "cell_type": "code",
   "execution_count": 2,
   "metadata": {},
   "outputs": [
    {
     "name": "stderr",
     "output_type": "stream",
     "text": [
      "Batches: 100%|██████████| 275/275 [00:18<00:00, 14.94it/s]\n"
     ]
    }
   ],
   "source": [
    "from sentence_transformers import SentenceTransformer\n",
    "from sklearn.model_selection import train_test_split\n",
    "from sklearn.svm import SVC\n",
    "import pandas as pd\n",
    "\n",
    "model = SentenceTransformer('paraphrase-MiniLM-L6-v2')\n",
    "def label_food(item):\n",
    "    raw_keywords = ['raw', 'fresh', 'uncooked']\n",
    "    cooked_keywords = ['cooked', 'roasted', 'fried', 'baked', 'boiled', 'grilled', 'steamed']\n",
    "    \n",
    "    if any(keyword in item.lower() for keyword in raw_keywords):\n",
    "        return 'raw'\n",
    "    elif any(keyword in item.lower() for keyword in cooked_keywords):\n",
    "        return 'cooked'\n",
    "    else:\n",
    "        return 'edible'\n",
    "    \n",
    "\n",
    "with open('data.txt', 'r') as file:\n",
    "    food_items = [line.strip() for line in file if line.strip()]\n",
    "\n",
    "# Assuming food_items is your list of food items\n",
    "labels = [label_food(item) for item in food_items]\n",
    "\n",
    "# Create embeddings for food items\n",
    "embeddings = model.encode(food_items, show_progress_bar=True)\n",
    "\n",
    "# Create a DataFrame\n",
    "df = pd.DataFrame({'food_item': food_items, 'label': labels})\n",
    "\n",
    "# Split the data into training and testing sets\n",
    "X_train, X_test, y_train, y_test = train_test_split(embeddings, labels, test_size=0.2, random_state=42)\n",
    "\n",
    "# Train a classifier (e.g., SVM)\n",
    "classifier = SVC(kernel='rbf')\n",
    "classifier.fit(X_train, y_train)\n",
    "\n",
    "# Function to predict label for new food items\n",
    "def predict_food_label(food_item):\n",
    "    embedding = model.encode([food_item])[0]\n",
    "    return classifier.predict([embedding])[0]\n",
    "\n",
    "# # Example usage\n",
    "# new_food_item = \"grilled chicken\"\n",
    "# predicted_label = predict_food_label(new_food_item)\n",
    "# print(f\"Predicted label for '{new_food_item}': {predicted_label}\")\n",
    "\n",
    "# # Display the original DataFrame\n",
    "# print(df)\n"
   ]
  },
  {
   "cell_type": "code",
   "execution_count": null,
   "metadata": {},
   "outputs": [],
   "source": []
  }
 ],
 "metadata": {
  "kernelspec": {
   "display_name": "Python 3",
   "language": "python",
   "name": "python3"
  },
  "language_info": {
   "codemirror_mode": {
    "name": "ipython",
    "version": 3
   },
   "file_extension": ".py",
   "mimetype": "text/x-python",
   "name": "python",
   "nbconvert_exporter": "python",
   "pygments_lexer": "ipython3",
   "version": "3.12.8"
  }
 },
 "nbformat": 4,
 "nbformat_minor": 2
}
